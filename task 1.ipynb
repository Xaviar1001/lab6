{
 "cells": [
  {
   "cell_type": "markdown",
   "metadata": {},
   "source": [
    " # Lab 6\n",
    "\n",
    "\n",
    "\n",
    " Grover's Search"
   ]
  },
  {
   "cell_type": "markdown",
   "metadata": {},
   "source": [
    " ## Task 1\n",
    "\n",
    "\n",
    " Simple Password Cracking with Grover's Algorithm\n",
    "\n",
    "\n",
    " Scenario: We have a 3-bit password (0-7) and we know its hash.\n",
    "\n",
    " We want to find which password produces that hash.\n",
    "\n",
    "\n",
    " For simplicity, we'll use a toy hash function:\n",
    "\n",
    " `hash(x) = (3*x + 5) mod 8` \n",
    "\n",
    "\n",
    " Target: Find x where hash(x) = 5\n",
    "\n",
    " Answer: hash(0) = (3*0 + 5) mod 8 = 5, so password is 0"
   ]
  },
  {
   "cell_type": "code",
   "execution_count": 10,
   "metadata": {},
   "outputs": [],
   "source": [
    "def toy_hash(x):\n",
    "    \"\"\"Hash function with unique preimages: (3*x + 5) mod 8.\"\"\"\n",
    "    return (3 * x + 5) % 8\n",
    "\n"
   ]
  },
  {
   "cell_type": "code",
   "execution_count": 11,
   "metadata": {},
   "outputs": [],
   "source": [
    "# Setup\n",
    "n_qubits = 3  # 3-bit password (values 0-7)\n",
    "target_hash = 5  # The hash value we want to find a pre-image for\n",
    "\n"
   ]
  },
  {
   "cell_type": "code",
   "execution_count": 12,
   "metadata": {},
   "outputs": [
    {
     "name": "stdout",
     "output_type": "stream",
     "text": [
      "h(0) = 5\n"
     ]
    }
   ],
   "source": [
    "def classical_preimage_search():\n",
    "    \"\"\"Classically search for a pre-image of the target hash.\"\"\"\n",
    "    for x in range(8):\n",
    "        print(f\"h({x}) = {toy_hash(x)}\")\n",
    "        if toy_hash(x) == target_hash:\n",
    "            return x\n",
    "    return None\n",
    "\n",
    "\n",
    "actual_password = classical_preimage_search()\n",
    "\n"
   ]
  },
  {
   "cell_type": "code",
   "execution_count": 13,
   "metadata": {},
   "outputs": [],
   "source": [
    "from qiskit import QuantumCircuit, QuantumRegister, ClassicalRegister, transpile\n",
    "from qiskit.circuit.library import MCMTGate, ZGate\n",
    "from qiskit_aer import AerSimulator\n",
    "import numpy as np\n"
   ]
  },
  {
   "cell_type": "code",
   "execution_count": 14,
   "metadata": {},
   "outputs": [],
   "source": [
    "def create_oracle(n_qubits, target_hash):\n",
    "    \"\"\"\n",
    "    Create an oracle that marks states x where hash(x) == target_hash.\n",
    "    This implements: hash(x) = (3*x + 5) mod 8\n",
    "\n",
    "    Hint: You need ancilla qubits to compute the hash and check equality.\n",
    "    \"\"\"\n",
    "\n",
    "    # n_qubits for input, n_qubits for hash output, 1 ancilla for phase kickback\n",
    "    total_qubits = n_qubits + n_qubits + 1\n",
    "    oracle = QuantumCircuit(total_qubits, name=\"Oracle\")\n",
    "\n",
    "    input_qubits = list(range(n_qubits))\n",
    "    hash_qubits = list(range(n_qubits, n_qubits + n_qubits))\n",
    "    phase_qubit = 2 * n_qubits\n",
    "\n",
    "    # Step 1: Compute hash(x) = (3*x + 5) mod 8\n",
    "    # TODO: Multiply by 3. HINT: 3*x = 2*x + x, so use CNOTs for left shift plus addition\n",
    "    for i in range(n_qubits - 1):\n",
    "        oracle.cx(input_qubits[i], hash_qubits[i + 1])  # Left shift by 1 (multiply by 2)\n",
    "    for i in range(n_qubits):\n",
    "        oracle.cx(input_qubits[i], hash_qubits[i])  # Add x\n",
    "\n",
    "\n",
    "    # TODO: Add 5. HINT: Use X gates to add constants in binary (5 = 101 in binary)\n",
    "    oracle.x(hash_qubits[0])  # Add 1 (2^0)\n",
    "    oracle.x(hash_qubits[2])  # Add 4 (2^2)\n",
    "\n",
    "    # Step 2: Check if hash(x) == target_hash\n",
    "    target_binary = format(target_hash, f\"0{n_qubits}b\")\n",
    "\n",
    "    # Flip qubits where target bit is 0 (so we match on |111...>)\n",
    "    for i, bit in enumerate(target_binary):\n",
    "        # TODO: Update here\n",
    "        if bit == '0':\n",
    "            oracle.x(hash_qubits[i])\n",
    "        pass \n",
    "\n",
    "    # TODO: Mark the state with multi-controlled NOT\n",
    "    oracle.mcx(hash_qubits, phase_qubit)\n",
    "\n",
    "    # Unflip the checking bits\n",
    "    for i, bit in enumerate(target_binary):\n",
    "        # TODO: Update  here\n",
    "        if bit == '0':\n",
    "            oracle.x(hash_qubits[i])\n",
    "        pass\n",
    "\n",
    "    # Step 3: Uncompute hash to clean up ancilla\n",
    "    # TODO: Reverse the hash computation steps\n",
    "    # Un-add 5\n",
    "    oracle.x(hash_qubits[0])  # Remove 1 (2^0)\n",
    "    oracle.x(hash_qubits[2])  # Remove 4 (2^2)\n",
    "\n",
    "    return oracle\n",
    "\n"
   ]
  },
  {
   "cell_type": "code",
   "execution_count": 15,
   "metadata": {},
   "outputs": [],
   "source": [
    "def create_diffusion(n_qubits):\n",
    "    \"\"\"Create diffusion operator (inversion about average)\"\"\"\n",
    "    diffusion = QuantumCircuit(n_qubits, name=\"Diffusion\")\n",
    "\n",
    "    # TODO: Implement the diffusion operator\n",
    "\n",
    "    # Step 1: Apply H to all qubits\n",
    "    diffusion.h(range(n_qubits))\n",
    "\n",
    "\n",
    "    # Step 2: Apply X to all qubits\n",
    "    diffusion.x(range(n_qubits))\n",
    "\n",
    "\n",
    "    # Step 3: Multi-controlled Z (using ancilla if needed)\n",
    "    diffusion.h(n_qubits - 1)  # Change last qubit to |-> basis\n",
    "    diffusion.mcx(list(range(n_qubits - 1)), n_qubits - 1)  # Multi-controlled NOT\n",
    "    diffusion.h(n_qubits - 1)  # Change back to |0>/<1> basis\n",
    "\n",
    "\n",
    "\n",
    "\n",
    "\n",
    "    # Step 4: Apply X to all qubits\n",
    "    diffusion.x(range(n_qubits))\n",
    "\n",
    "\n",
    "    # Step 5: Apply H to all qubits\n",
    "    diffusion.h(range(n_qubits))\n",
    "\n",
    "\n",
    "    return diffusion\n",
    "\n"
   ]
  },
  {
   "cell_type": "code",
   "execution_count": 16,
   "metadata": {},
   "outputs": [
    {
     "name": "stdout",
     "output_type": "stream",
     "text": [
      "Optimal Grover iterations: 2\n"
     ]
    }
   ],
   "source": [
    "# Calculate number of Grover iterations\n",
    "N = 2**n_qubits\n",
    "optimal_iterations = int(np.pi / 4 * np.sqrt(N)) # Since there's 1 solution, otherwise use N/M, where M is the number of solutions\n",
    "print(f\"Optimal Grover iterations: {optimal_iterations}\")\n",
    "\n"
   ]
  },
  {
   "cell_type": "code",
   "execution_count": 17,
   "metadata": {},
   "outputs": [
    {
     "name": "stdout",
     "output_type": "stream",
     "text": [
      "Requirement already satisfied: pylatexenc in ./.venv/lib/python3.13/site-packages (2.10)\n",
      "Note: you may need to restart the kernel to use updated packages.\n"
     ]
    },
    {
     "data": {
      "image/png": "[encoded data removed]",
      "text/plain": [
       "<Figure size 1290.83x702.333 with 1 Axes>"
      ]
     },
     "execution_count": 17,
     "metadata": {},
     "output_type": "execute_result"
    }
   ],
   "source": [
    "%pip install pylatexenc\n",
    "\n",
    "# Build Grover circuit\n",
    "\n",
    "total_qubits = n_qubits + n_qubits + 1  # Input qubits + hash qubits + ancilla\n",
    "qr = QuantumRegister(total_qubits, \"q\")\n",
    "cr = ClassicalRegister(n_qubits, \"c\")  # Only measure the input qubits\n",
    "\n",
    "qc = QuantumCircuit(qr, cr)\n",
    "\n",
    "# TODO: Initialize input qubits to superposition\n",
    "qc.h(range(n_qubits))  # Input qubits in superposition\n",
    "\n",
    "\n",
    "# TODO: Initialize phase qubit to |-⟩ for phase kickback\n",
    "phase_qubit = 2 * n_qubits\n",
    "qc.x(phase_qubit)\n",
    "qc.h(phase_qubit)\n",
    "\n",
    "qc.barrier()\n",
    "\n",
    "# Grover iterations\n",
    "oracle = create_oracle(n_qubits, target_hash)\n",
    "diffusion = create_diffusion(n_qubits)\n",
    "\n",
    "for _ in range(optimal_iterations):\n",
    "    # TODO: Apply oracle and diffusion\n",
    "    qc.append(oracle.to_gate(), range(total_qubits))\n",
    "    qc.append(diffusion.to_gate(), range(n_qubits))\n",
    "    pass\n",
    "\n",
    "# TODO: Measure input qubits\n",
    "qc.measure(range(n_qubits), range(n_qubits))\n",
    "qc.draw(\"mpl\")\n",
    "\n",
    "\n"
   ]
  },
  {
   "cell_type": "code",
   "execution_count": 18,
   "metadata": {},
   "outputs": [
    {
     "name": "stdout",
     "output_type": "stream",
     "text": [
      "  000 (password=0): 1884 shots ( 46.0%) - h(0)=5 ✓✓✓\n",
      "  011 (password=3):  324 shots (  7.9%) - h(3)=6 \n",
      "  110 (password=6):  320 shots (  7.8%) - h(6)=7 \n",
      "  111 (password=7):  318 shots (  7.8%) - h(7)=2 \n",
      "  001 (password=1):  316 shots (  7.7%) - h(1)=0 \n",
      "  100 (password=4):  315 shots (  7.7%) - h(4)=1 \n",
      "  101 (password=5):  311 shots (  7.6%) - h(5)=4 \n",
      "  010 (password=2):  308 shots (  7.5%) - h(2)=3 \n",
      "\n",
      "Most likely password guess: 0 (h(0)=5)\n"
     ]
    }
   ],
   "source": [
    "# Simulate the circuit\n",
    "simulator = AerSimulator()\n",
    "job = simulator.run(transpile(qc, simulator), shots=4096)\n",
    "result = job.result()\n",
    "counts = result.get_counts()\n",
    "\n",
    "sorted_counts = sorted(counts.items(), key=lambda x: x[1], reverse=True)\n",
    "for state, count in sorted_counts:\n",
    "    percentage = count / 4096 * 100\n",
    "    password_guess = int(state, 2)\n",
    "    hash_value = toy_hash(password_guess)\n",
    "    marker = \"✓✓✓\" if password_guess == actual_password else \"\"\n",
    "    print(\n",
    "        f\"  {state} (password={password_guess}): {count:4d} shots ({percentage:5.1f}%) - h({password_guess})={hash_value} {marker}\"\n",
    "    )\n",
    "\n",
    "# Find the most likely password guess\n",
    "most_common = max(counts, key=counts.get)\n",
    "found_password = int(most_common, 2)\n",
    "\n",
    "print(\n",
    "    f\"\\nMost likely password guess: {found_password} (h({found_password})={toy_hash(found_password)})\"\n",
    ")\n"
   ]
  }
 ],
 "metadata": {
  "kernelspec": {
   "display_name": ".venv (3.13.7)",
   "language": "python",
   "name": "python3"
  },
  "language_info": {
   "codemirror_mode": {
    "name": "ipython",
    "version": 3
   },
   "file_extension": ".py",
   "mimetype": "text/x-python",
   "name": "python",
   "nbconvert_exporter": "python",
   "pygments_lexer": "ipython3",
   "version": "3.13.7"
  }
 },
 "nbformat": 4,
 "nbformat_minor": 2
}
