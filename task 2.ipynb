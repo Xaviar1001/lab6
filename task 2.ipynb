{
 "cells": [
  {
   "cell_type": "markdown",
   "metadata": {},
   "source": [
    " # Lab 6\n",
    "\n",
    "\n",
    "\n",
    " Grover's Search"
   ]
  },
  {
   "cell_type": "markdown",
   "metadata": {},
   "source": [
    " ## Task 2\n",
    "\n",
    "\n",
    " Simple Password Cracking with Grover's Algorithm\n",
    "\n",
    "\n",
    " Scenario: We have a 3-bit password (0-7) and we know its hash.\n",
    "\n",
    " We want to find which passwords produce that hash.\n",
    "\n",
    "\n",
    " For simplicity, we'll use a toy hash function:\n",
    "\n",
    " `hash(x) = (2*x + 3) mod 8` \n",
    "\n",
    "\n",
    " Target: Find x where hash(x) = 1\n",
    "\n",
    " Answer: \n",
    " \n",
    "`hash(3) = (2*3 + 3) mod 8 = 1`, so password is 3\n",
    "\n",
    "`hash(7) = (2*7 + 3) mod 8 = 1`, so password is 7 as well\n",
    "\n",
    "Need two possible solutions."
   ]
  },
  {
   "cell_type": "code",
   "execution_count": 1,
   "metadata": {},
   "outputs": [],
   "source": [
    "def toy_hash(x):\n",
    "    \"\"\"Hash function with unique preimages: (3*x + 5) mod 8.\"\"\"\n",
    "    return (2 * x + 3) % 8"
   ]
  },
  {
   "cell_type": "code",
   "execution_count": 2,
   "metadata": {},
   "outputs": [],
   "source": [
    "# Setup\n",
    "n_qubits = 3  # 3-bit password (values 0-7)\n",
    "target_hash = 5  # The hash value we want to find a pre-image for"
   ]
  },
  {
   "cell_type": "code",
   "execution_count": 3,
   "metadata": {},
   "outputs": [
    {
     "name": "stdout",
     "output_type": "stream",
     "text": [
      "h(0) = 3\n",
      "h(1) = 5\n"
     ]
    }
   ],
   "source": [
    "def classical_preimage_search():\n",
    "    \"\"\"Classically search for a pre-image of the target hash.\"\"\"\n",
    "    for x in range(8):\n",
    "        print(f\"h({x}) = {toy_hash(x)}\")\n",
    "        if toy_hash(x) == target_hash:\n",
    "            return x\n",
    "    return None\n",
    "\n",
    "\n",
    "actual_password = classical_preimage_search()\n",
    "\n"
   ]
  },
  {
   "cell_type": "code",
   "execution_count": 4,
   "metadata": {},
   "outputs": [],
   "source": [
    "from qiskit import QuantumCircuit, QuantumRegister, ClassicalRegister, transpile\n",
    "from qiskit.circuit.library import MCMTGate, ZGate\n",
    "from qiskit_aer import AerSimulator\n",
    "import numpy as np\n"
   ]
  }
 ],
 "metadata": {
  "kernelspec": {
   "display_name": ".venv (3.13.7)",
   "language": "python",
   "name": "python3"
  },
  "language_info": {
   "codemirror_mode": {
    "name": "ipython",
    "version": 3
   },
   "file_extension": ".py",
   "mimetype": "text/x-python",
   "name": "python",
   "nbconvert_exporter": "python",
   "pygments_lexer": "ipython3",
   "version": "3.13.7"
  }
 },
 "nbformat": 4,
 "nbformat_minor": 2
}
